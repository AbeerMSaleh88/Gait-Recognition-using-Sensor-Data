{
 "cells": [
  {
   "cell_type": "code",
   "execution_count": null,
   "id": "8b64ed15",
   "metadata": {},
   "outputs": [],
   "source": [
    "from tensorflow.keras.layers import Conv1D, BatchNormalization, Activation, AveragePooling1D, Masking, LSTM, Dropout\n",
    "from se_block import squeeze_excite_block\n",
    "\n",
    "def build_cnn_branch(input_tensor):\n",
    "    x = Conv1D(24, 1, padding='same')(input_tensor)\n",
    "    x = BatchNormalization()(x)\n",
    "    x = Activation('relu')(x)\n",
    "    x = AveragePooling1D(pool_size=2)(x)\n",
    "    x = squeeze_excite_block(x)\n",
    "\n",
    "    x = Conv1D(40, 1, padding='same')(x)\n",
    "    x = BatchNormalization()(x)\n",
    "    x = Activation('relu')(x)\n",
    "    x = AveragePooling1D(pool_size=2)(x)\n",
    "    x = squeeze_excite_block(x)\n",
    "\n",
    "    x = Conv1D(104, 1, padding='same')(x)\n",
    "    x = BatchNormalization()(x)\n",
    "    x = Activation('relu')(x)\n",
    "    x = AveragePooling1D(pool_size=2)(x)\n",
    "    return x\n",
    "\n",
    "def build_lstm_branch(input_tensor):\n",
    "    x = Masking()(input_tensor)\n",
    "    x = LSTM(24, return_sequences=False)(x)\n",
    "    x = Dropout(0.5)(x)\n",
    "    return x\n"
   ]
  }
 ],
 "metadata": {
  "kernelspec": {
   "display_name": "Python 3",
   "language": "python",
   "name": "python3"
  },
  "language_info": {
   "name": "python",
   "version": "3.10.11"
  }
 },
 "nbformat": 4,
 "nbformat_minor": 5
}
