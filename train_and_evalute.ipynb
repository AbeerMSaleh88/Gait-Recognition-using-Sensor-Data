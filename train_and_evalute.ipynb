{
 "cells": [
  {
   "cell_type": "code",
   "execution_count": null,
   "id": "e2f191ca",
   "metadata": {},
   "outputs": [],
   "source": [
    "from tensorflow.keras.models import Model\n",
    "from tensorflow.keras.layers import Input, Concatenate, Dense, Flatten\n",
    "import matplotlib.pyplot as plt\n",
    "from model_branches import build_cnn_branch, build_lstm_branch\n",
    "from data_preparation import load_and_split_data\n",
    "\n",
    "def build_combined_model(input_shape, num_classes):\n",
    "    input_layer = Input(shape=input_shape)\n",
    "    cnn_output = build_cnn_branch(input_layer)\n",
    "    cnn_output = Flatten()(cnn_output)\n",
    "    lstm_output = build_lstm_branch(input_layer)\n",
    "    merged = Concatenate()([cnn_output, lstm_output])\n",
    "    final_output = Dense(num_classes, activation='softmax')(merged)\n",
    "    model = Model(inputs=input_layer, outputs=final_output)\n",
    "    model.compile(optimizer='adam', loss='categorical_crossentropy', metrics=['accuracy'])\n",
    "    return model\n",
    "\n",
    "def plot_accuracy(history):\n",
    "    plt.plot(history.history['accuracy'], label='Training Accuracy')\n",
    "    plt.plot(history.history['val_accuracy'], label='Validation Accuracy')\n",
    "    plt.xlabel('Epochs')\n",
    "    plt.ylabel('Accuracy')\n",
    "    plt.title('Training vs Validation Accuracy')\n",
    "    plt.legend()\n",
    "    plt.grid(True)\n",
    "    plt.show()\n",
    "\n",
    "if __name__ == \"__main__\":\n",
    "    csv_directory = '/content/drive/MyDrive/imuz/autoz/AutomaticExtractionData_IMUZCenter/'  # غيّري المسار حسب موقع البيانات\n",
    "    X_train, X_test, y_train, y_test, label_encoder = load_and_split_data(csv_directory)\n",
    "    num_classes = len(label_encoder.classes_)\n",
    "    \n",
    "    model = build_combined_model(X_train.shape[1:], num_classes)\n",
    "    \n",
    "    history = model.fit(\n",
    "        X_train, y_train,\n",
    "        validation_data=(X_test, y_test),\n",
    "        epochs=30,\n",
    "        batch_size=32\n",
    "    )\n",
    "\n",
    "    plot_accuracy(history)\n"
   ]
  }
 ],
 "metadata": {
  "kernelspec": {
   "display_name": "Python 3",
   "language": "python",
   "name": "python3"
  },
  "language_info": {
   "name": "python",
   "version": "3.10.11"
  }
 },
 "nbformat": 4,
 "nbformat_minor": 5
}
