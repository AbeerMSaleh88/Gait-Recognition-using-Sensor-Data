{
 "cells": [
  {
   "cell_type": "code",
   "execution_count": null,
   "id": "5e4d08d6",
   "metadata": {},
   "outputs": [],
   "source": [
    "from tensorflow.keras.layers import GlobalAveragePooling1D, Reshape, Dense, Multiply\n",
    "\n",
    "def squeeze_excite_block(input_tensor):\n",
    "    filters = input_tensor.shape[-1]\n",
    "    se = GlobalAveragePooling1D()(input_tensor)\n",
    "    se = Reshape((1, filters))(se)\n",
    "    se = Dense(filters // 8, activation='relu')(se)\n",
    "    se = Dense(filters, activation='sigmoid')(se)\n",
    "    return Multiply()([input_tensor, se])"
   ]
  }
 ],
 "metadata": {
  "kernelspec": {
   "display_name": "Python 3",
   "language": "python",
   "name": "python3"
  },
  "language_info": {
   "name": "python",
   "version": "3.10.11"
  }
 },
 "nbformat": 4,
 "nbformat_minor": 5
}
