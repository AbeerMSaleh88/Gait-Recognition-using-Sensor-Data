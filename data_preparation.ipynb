{
 "cells": [
  {
   "cell_type": "code",
   "execution_count": null,
   "id": "cd50d435",
   "metadata": {},
   "outputs": [],
   "source": [
    "import os\n",
    "import numpy as np\n",
    "from csv import reader\n",
    "from sklearn.preprocessing import LabelEncoder\n",
    "\n",
    "def load_and_split_data(csv_directory, k=128):\n",
    "    array_list, array_list_ts, label, labelts = [], [], [], []\n",
    "    \n",
    "    for filename in os.listdir(csv_directory):\n",
    "        if filename.endswith(\".csv\"):\n",
    "            person_id = filename.split(\"_\")[1]\n",
    "            with open(os.path.join(csv_directory, filename), 'r') as csv_file:\n",
    "                csv_reader = reader(csv_file)\n",
    "                next(csv_reader)\n",
    "                data = [list(map(float, row[:6])) for row in csv_reader if len(row) >= 6]\n",
    "\n",
    "            numlines = len(data)\n",
    "            num_samples = numlines // k\n",
    "\n",
    "            if num_samples < 5:\n",
    "                splitsi = 1\n",
    "            elif num_samples < 11:\n",
    "                splitsi = 2\n",
    "            elif num_samples < 16:\n",
    "                splitsi = 3\n",
    "            else:\n",
    "                splitsi = 4\n",
    "\n",
    "            segments = [data[i*k:(i+1)*k] for i in range(num_samples)]\n",
    "            for i, segment in enumerate(segments):\n",
    "                if i < splitsi:\n",
    "                    array_list_ts.append(np.array(segment))\n",
    "                    labelts.append(person_id)\n",
    "                else:\n",
    "                    array_list.append(np.array(segment))\n",
    "                    label.append(person_id)\n",
    "\n",
    "    print(f\"✅ Training samples: {len(array_list)}, Testing samples: {len(array_list_ts)}\")\n",
    "\n",
    "    X_train = np.array(array_list)\n",
    "    X_test = np.array(array_list_ts)\n",
    "\n",
    "    label_encoder = LabelEncoder()\n",
    "    y_train = label_encoder.fit_transform(label)\n",
    "    y_test = label_encoder.transform(labelts)\n",
    "\n",
    "    return X_train, X_test, y_train, y_test, label_encoder\n"
   ]
  }
 ],
 "metadata": {
  "kernelspec": {
   "display_name": "Python 3",
   "language": "python",
   "name": "python3"
  },
  "language_info": {
   "name": "python",
   "version": "3.10.11"
  }
 },
 "nbformat": 4,
 "nbformat_minor": 5
}
